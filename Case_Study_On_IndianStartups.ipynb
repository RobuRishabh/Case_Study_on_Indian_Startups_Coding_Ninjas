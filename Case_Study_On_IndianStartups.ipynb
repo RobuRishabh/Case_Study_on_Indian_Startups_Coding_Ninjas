{
 "cells": [
  {
   "cell_type": "code",
   "execution_count": 18,
   "id": "8a663297-b76f-4a77-9165-afd495ce26bd",
   "metadata": {},
   "outputs": [],
   "source": [
    "import pandas as pd\n",
    "import numpy as np\n",
    "import matplotlib.pyplot as plt"
   ]
  },
  {
   "cell_type": "code",
   "execution_count": 19,
   "id": "1a92da05-31d4-4b88-899f-2b7ee50c890d",
   "metadata": {},
   "outputs": [],
   "source": [
    "data =  pd.read_csv(\"startup_funding.csv\")"
   ]
  },
  {
   "cell_type": "code",
   "execution_count": 20,
   "id": "df9f68b0-1f77-425a-b6a2-309e7c472156",
   "metadata": {},
   "outputs": [
    {
     "data": {
      "text/html": [
       "<div>\n",
       "<style scoped>\n",
       "    .dataframe tbody tr th:only-of-type {\n",
       "        vertical-align: middle;\n",
       "    }\n",
       "\n",
       "    .dataframe tbody tr th {\n",
       "        vertical-align: top;\n",
       "    }\n",
       "\n",
       "    .dataframe thead th {\n",
       "        text-align: right;\n",
       "    }\n",
       "</style>\n",
       "<table border=\"1\" class=\"dataframe\">\n",
       "  <thead>\n",
       "    <tr style=\"text-align: right;\">\n",
       "      <th></th>\n",
       "      <th>SNo</th>\n",
       "      <th>Date</th>\n",
       "      <th>StartupName</th>\n",
       "      <th>IndustryVertical</th>\n",
       "      <th>SubVertical</th>\n",
       "      <th>CityLocation</th>\n",
       "      <th>InvestorsName</th>\n",
       "      <th>InvestmentType</th>\n",
       "      <th>AmountInUSD</th>\n",
       "      <th>Remarks</th>\n",
       "    </tr>\n",
       "  </thead>\n",
       "  <tbody>\n",
       "    <tr>\n",
       "      <th>0</th>\n",
       "      <td>0</td>\n",
       "      <td>01/08/2017</td>\n",
       "      <td>TouchKin</td>\n",
       "      <td>Technology</td>\n",
       "      <td>Predictive Care Platform</td>\n",
       "      <td>Bangalore</td>\n",
       "      <td>Kae Capital</td>\n",
       "      <td>Private Equity</td>\n",
       "      <td>1,300,000</td>\n",
       "      <td>NaN</td>\n",
       "    </tr>\n",
       "    <tr>\n",
       "      <th>1</th>\n",
       "      <td>1</td>\n",
       "      <td>02/08/2017</td>\n",
       "      <td>Ethinos</td>\n",
       "      <td>Technology</td>\n",
       "      <td>Digital Marketing Agency</td>\n",
       "      <td>Mumbai</td>\n",
       "      <td>Triton Investment Advisors</td>\n",
       "      <td>Private Equity</td>\n",
       "      <td>NaN</td>\n",
       "      <td>NaN</td>\n",
       "    </tr>\n",
       "    <tr>\n",
       "      <th>2</th>\n",
       "      <td>2</td>\n",
       "      <td>02/08/2017</td>\n",
       "      <td>Leverage Edu</td>\n",
       "      <td>Consumer Internet</td>\n",
       "      <td>Online platform for Higher Education Services</td>\n",
       "      <td>New Delhi</td>\n",
       "      <td>Kashyap Deorah, Anand Sankeshwar, Deepak Jain,...</td>\n",
       "      <td>Seed Funding</td>\n",
       "      <td>NaN</td>\n",
       "      <td>NaN</td>\n",
       "    </tr>\n",
       "    <tr>\n",
       "      <th>3</th>\n",
       "      <td>3</td>\n",
       "      <td>02/08/2017</td>\n",
       "      <td>Zepo</td>\n",
       "      <td>Consumer Internet</td>\n",
       "      <td>DIY Ecommerce platform</td>\n",
       "      <td>Mumbai</td>\n",
       "      <td>Kunal Shah, LetsVenture, Anupam Mittal, Hetal ...</td>\n",
       "      <td>Seed Funding</td>\n",
       "      <td>500,000</td>\n",
       "      <td>NaN</td>\n",
       "    </tr>\n",
       "    <tr>\n",
       "      <th>4</th>\n",
       "      <td>4</td>\n",
       "      <td>02/08/2017</td>\n",
       "      <td>Click2Clinic</td>\n",
       "      <td>Consumer Internet</td>\n",
       "      <td>healthcare service aggregator</td>\n",
       "      <td>Hyderabad</td>\n",
       "      <td>Narottam Thudi, Shireesh Palle</td>\n",
       "      <td>Seed Funding</td>\n",
       "      <td>850,000</td>\n",
       "      <td>NaN</td>\n",
       "    </tr>\n",
       "  </tbody>\n",
       "</table>\n",
       "</div>"
      ],
      "text/plain": [
       "   SNo        Date   StartupName   IndustryVertical  \\\n",
       "0    0  01/08/2017      TouchKin         Technology   \n",
       "1    1  02/08/2017       Ethinos         Technology   \n",
       "2    2  02/08/2017  Leverage Edu  Consumer Internet   \n",
       "3    3  02/08/2017          Zepo  Consumer Internet   \n",
       "4    4  02/08/2017  Click2Clinic  Consumer Internet   \n",
       "\n",
       "                                     SubVertical CityLocation  \\\n",
       "0                       Predictive Care Platform    Bangalore   \n",
       "1                       Digital Marketing Agency       Mumbai   \n",
       "2  Online platform for Higher Education Services    New Delhi   \n",
       "3                         DIY Ecommerce platform       Mumbai   \n",
       "4                  healthcare service aggregator    Hyderabad   \n",
       "\n",
       "                                       InvestorsName  InvestmentType  \\\n",
       "0                                        Kae Capital  Private Equity   \n",
       "1                         Triton Investment Advisors  Private Equity   \n",
       "2  Kashyap Deorah, Anand Sankeshwar, Deepak Jain,...    Seed Funding   \n",
       "3  Kunal Shah, LetsVenture, Anupam Mittal, Hetal ...    Seed Funding   \n",
       "4                     Narottam Thudi, Shireesh Palle    Seed Funding   \n",
       "\n",
       "  AmountInUSD Remarks  \n",
       "0   1,300,000     NaN  \n",
       "1         NaN     NaN  \n",
       "2         NaN     NaN  \n",
       "3     500,000     NaN  \n",
       "4     850,000     NaN  "
      ]
     },
     "execution_count": 20,
     "metadata": {},
     "output_type": "execute_result"
    }
   ],
   "source": [
    "data.head()"
   ]
  },
  {
   "cell_type": "markdown",
   "id": "3666289e-feab-42b1-8235-b53c5521ac20",
   "metadata": {},
   "source": [
    "### Ques.1 - Your Friend has developed the Product and he wants to establish the product startup and he is searching for a perfect location where getting the investment has a high chance. But due to its financial restriction, he can choose only between three locations - Bangalore, Mumbai, and NCR. As a friend, you want to help your friend deciding the location. NCR include Gurgaon, Noida and New Delhi. Find the location where the most number of funding is done. That means, find the location where startups has received funding maximum number of times. Plot the bar graph between location and number of funding. Take city name \"Delhi\" as \"New Delhi\". Check the case-sensitiveness of cities also. That means, at some place instead of \"Bangalore\", \"bangalore\" is given. Take city name as \"Bangalore\". For few startups multiple locations are given, one Indian and one Foreign. Consider the startup if any one of the city lies in given locations.\n"
   ]
  },
  {
   "cell_type": "code",
   "execution_count": 21,
   "id": "99bc1d5e-3f4b-424c-9a57-245c451ea443",
   "metadata": {},
   "outputs": [
    {
     "name": "stdout",
     "output_type": "stream",
     "text": [
      "Location\n",
      "NCR          703\n",
      "Bangalore    628\n",
      "Mumbai       446\n",
      "Name: count, dtype: int64\n"
     ]
    },
    {
     "data": {
      "image/png": "[encoded data removed]",
      "text/plain": [
       "<Figure size 800x500 with 1 Axes>"
      ]
     },
     "metadata": {},
     "output_type": "display_data"
    }
   ],
   "source": [
    "df = pd.DataFrame(data)\n",
    "\n",
    "# Data Cleaning\n",
    "df['CityLocation'] = df['CityLocation'].str.title() #Normalize Capitalization\n",
    "df['CityLocation'] = df['CityLocation'].replace({'Delhi': 'New Delhi', 'Ncr': 'NCR'})\n",
    "\n",
    "# Group the cities according to the location categories\n",
    "ncr_cities = ['Gurgaon', 'Noida', 'New Delhi', 'NCR']\n",
    "df['Location'] = df['CityLocation'].apply(lambda x : 'NCR' if x in ncr_cities else x)\n",
    "\n",
    "#drop the NA Values\n",
    "df = df.dropna(subset=['Location'])\n",
    "\n",
    "# Counting funding instances per location\n",
    "funding_counts = df[df['Location'].isin(['Bangalore', 'Mumbai', 'NCR'])]['Location'].value_counts()\n",
    "#funding_counts = df['Location'].value_counts()\n",
    "print(funding_counts.head(3))\n",
    "\n",
    "# Plotting\n",
    "plt.figure(figsize=(8, 5))\n",
    "funding_counts.plot(kind='bar', color='skyblue')\n",
    "plt.title('Number of Funding Instances by Location')\n",
    "plt.xlabel('Location')\n",
    "plt.ylabel('Number of Fundings')\n",
    "plt.xticks(rotation=45)\n",
    "plt.grid(axis='y', linestyle='--', alpha=0.7)\n",
    "plt.show()"
   ]
  },
  {
   "cell_type": "markdown",
   "id": "0de9f71e-61e8-42d2-8bd0-cc4cfb44bc96",
   "metadata": {},
   "source": [
    "The Python script refines startup funding data by first normalizing city names for consistency and correcting common variations, such as replacing \"Delhi\" with \"New Delhi\" and \"Bangalore\" with \"Bengaluru.\" It then groups relevant cities into broader regions like 'NCR' using a lambda function, enhancing clarity in regional analysis. Rows with missing location data are dropped to maintain the accuracy of the analysis, focusing solely on relevant entries. The script specifically counts funding occurrences in key locations ('Bengaluru', 'Mumbai', 'NCR'), aligning directly with the query regarding optimal locations for startup investments. A bar graph visually represents the data, featuring clear labeling and aesthetic choices such as color and label rotation, facilitating easy interpretation. The analysis concludes that NCR has received the most funding, making it a prime candidate for establishing a new startup.ngs, "
   ]
  },
  {
   "cell_type": "markdown",
   "id": "f7ceefe2-bb19-4a14-bf55-0e7fe54849ee",
   "metadata": {},
   "source": [
    "### Ques.2 - Even after trying for so many times, your friend's startup could not find the investment. So you decided to take this matter in your hand and try to find the list of investors who probably can invest in your friend's startup. Your list will increase the chance of your friend startup getting some initial investment by contacting these investors. Find the top 5 investors who have invested maximum number of times (consider repeat investments in one company also). In a startup, multiple investors might have invested. So consider each investor for that startup. Ignore undisclosed investors."
   ]
  },
  {
   "cell_type": "code",
   "execution_count": 22,
   "id": "a97acf38-a7de-4764-a2af-ca9006a3ddbe",
   "metadata": {},
   "outputs": [
    {
     "data": {
      "text/plain": [
       "InvestorsName\n",
       "sequoia capital         64\n",
       "accel partners          53\n",
       "kalaari capital         44\n",
       "saif partners           43\n",
       "indian angel network    41\n",
       "Name: count, dtype: int64"
      ]
     },
     "execution_count": 22,
     "metadata": {},
     "output_type": "execute_result"
    }
   ],
   "source": [
    "startup_data = pd.read_csv(\"startup_funding.csv\")\n",
    "\n",
    "# convert names to a consistent format\n",
    "startup_data['InvestorsName'] = startup_data['InvestorsName'].str.strip()\n",
    "\n",
    "# Dropping rows where InvestorsName is missing or undisclosed\n",
    "cleaned_data = startup_data[startup_data['InvestorsName'].notna() & (startup_data['InvestorsName'].str.lower() != 'undisclosed investors')]\n",
    "\n",
    "# Splitting investors where multiple investors are listed in a single cell\n",
    "# Convert each investment row into multiple rows, one per investor\n",
    "all_investors = cleaned_data['InvestorsName'].str.split(',')\n",
    "expanded_investors = all_investors.explode()\n",
    "\n",
    "# Cleaning individual investor names\n",
    "expanded_investors = expanded_investors.str.strip().str.lower()\n",
    "expanded_investors = expanded_investors[expanded_investors != 'undisclosed']\n",
    "\n",
    "# Counting occurrences of each investor\n",
    "investor_counts = expanded_investors.value_counts()\n",
    "\n",
    "# Get top 5 investors\n",
    "top_5_investors = investor_counts.head(5)\n",
    "top_5_investors\n"
   ]
  },
  {
   "cell_type": "markdown",
   "id": "780fd0a0-892d-471a-badf-e5b539d98cde",
   "metadata": {},
   "source": [
    "The above code effectively processes a dataset of startup funding to identify the most active investors. It starts by loading the dataset and cleaning the InvestorsName column to ensure consistency by stripping any leading or trailing whitespace. The next step involves filtering out rows where the InvestorsName is either missing or labeled as 'undisclosed investors,' ensuring the analysis only considers valid, disclosed investments. Then, it handles multiple investors listed in a single cell by splitting these names on commas and expanding them into separate rows using the .explode() method, allowing each investor to be treated individually. This is crucial for accurate counting. Further cleaning includes normalizing the investor names to lowercase and removing any that are still labeled as 'undisclosed'. Finally, it counts each investor's appearances in the dataset using value_counts() and identifies the top 5 most active investors. "
   ]
  },
  {
   "cell_type": "markdown",
   "id": "34ea5376-06f6-4ef9-ae31-e94d6ec0a9f6",
   "metadata": {},
   "source": [
    "### Ques.3 - After re-analysing the dataset you found out that some investors have invested in the same startup at different number of funding rounds. So before finalising the previous list, you want to improvise it by finding the top 5 investors who have invested in different number of startups. This list will be more helpful than your previous list in finding the investment for your friend startup. Find the top 5 investors who have invested maximum number of times in different companies. That means, if one investor has invested multiple times in one startup, count one for that company. There are many errors in startup names. Ignore correcting all, just handle the important ones - Ola, Flipkart, Oyo and Paytm."
   ]
  },
  {
   "cell_type": "code",
   "execution_count": 23,
   "id": "1df0d067-a337-4b1f-90ba-b59c95a85238",
   "metadata": {},
   "outputs": [
    {
     "data": {
      "text/plain": [
       "InvestorsName\n",
       "sequoia capital         49\n",
       "accel partners          47\n",
       "kalaari capital         41\n",
       "indian angel network    41\n",
       "blume ventures          36\n",
       "Name: StartupName, dtype: int64"
      ]
     },
     "execution_count": 23,
     "metadata": {},
     "output_type": "execute_result"
    }
   ],
   "source": [
    "startup_data = pd.read_csv(\"startup_funding.csv\")\n",
    "\n",
    "# Normalize key startup names to handle inconsistencies\n",
    "startup_data['StartupName'] = startup_data['StartupName'].replace({\n",
    "    'Olacabs': 'Ola', 'Ola Cabs': 'Ola', 'Flipkart.com': 'Flipkart',\n",
    "    'Oyo Rooms': 'Oyo', 'OyoRooms': 'Oyo', 'OYO Rooms': 'Oyo',\n",
    "    'Paytm Marketplace': 'Paytm'\n",
    "})\n",
    "\n",
    "# Convert names to a consistent format and handle missing values\n",
    "startup_data['InvestorsName'] = startup_data['InvestorsName'].str.strip()\n",
    "cleaned_data = startup_data[startup_data['InvestorsName'].notna() & (startup_data['InvestorsName'].str.lower() != 'undisclosed investors')]\n",
    "\n",
    "# Create a DataFrame with unique pairs of investors and startups\n",
    "investor_startup_pairs = cleaned_data[['InvestorsName', 'StartupName']].drop_duplicates()\n",
    "\n",
    "# Splitting investors where multiple investors are listed in a single cell and expand them into separate rows\n",
    "investor_startup_pairs['InvestorsName'] = investor_startup_pairs['InvestorsName'].str.split(',')\n",
    "investor_startup_expanded = investor_startup_pairs.explode('InvestorsName')\n",
    "\n",
    "# Cleaning individual investor names\n",
    "investor_startup_expanded['InvestorsName'] = investor_startup_expanded['InvestorsName'].str.strip().str.lower()\n",
    "\n",
    "# Filter out blank or invalid investor names\n",
    "investor_startup_expanded = investor_startup_expanded[investor_startup_expanded['InvestorsName'] != '']\n",
    "\n",
    "# Counting unique startups per investor\n",
    "unique_investment_counts = investor_startup_expanded.groupby('InvestorsName')['StartupName'].nunique()\n",
    "\n",
    "# Get top 5 investors by the number of unique startups invested in\n",
    "top_5_unique_investors = unique_investment_counts.sort_values(ascending=False).head(5)\n",
    "\n",
    "# Display the top 5 unique investors\n",
    "top_5_unique_investors\n"
   ]
  },
  {
   "cell_type": "markdown",
   "id": "7b4470ae-c534-46a7-afb2-502c90906a27",
   "metadata": {},
   "source": [
    "The above code performs a comprehensive analysis to identify the top investors based on the diversity of their startup investments, focusing on unique companies. Initially, it loads and cleans the dataset by standardizing key startup names like Ola, Flipkart, Oyo, and Paytm to address inconsistencies and ensure accurate mapping. It also filters out entries where investor names are missing or labeled as 'undisclosed', maintaining only valid data. The code then creates a unique pairing of investors and startups, handling cases where multiple investors are listed together by splitting and expanding these into separate rows. This step is crucial for accurately assessing each investor's unique contributions. Additional cleaning ensures no investor names are blank or improperly formatted. The script finally counts each investor's unique startup investments, providing a clear ranking of the top 5 investors who demonstrate the widest range of interests in different startups."
   ]
  },
  {
   "cell_type": "markdown",
   "id": "768aaeea-1b19-43b1-8306-27b4d2800bb6",
   "metadata": {},
   "source": [
    "### Ques.4 - Even after putting so much effort in finding the probable investors, it didn't turn out to be helpful for your friend. So you went to your investor friend to understand the situation better and your investor friend explained to you about the different Investment Types and their features. This new information will be helpful in finding the right investor. Since your friend startup is at an early stage startup, the best-suited investment type would be - Seed Funding and Crowdfunding. Find the top 5 investors who have invested in a different number of startups and their investment type is Crowdfunding or Seed Funding. Correct spelling of investment types are -\"Private Equity\", \"Seed Funding\", \"Debt Funding\", and \"Crowd Funding\". Keep an eye for any spelling mistake. You can find this by printing unique values from this column. There are many errors in startup names. Ignore correcting all, just handle the important ones - Ola, Flipkart, Oyo and Paytm."
   ]
  },
  {
   "cell_type": "code",
   "execution_count": 24,
   "id": "e874d321-5dff-4a01-ae3c-5dc89b81390d",
   "metadata": {},
   "outputs": [
    {
     "data": {
      "text/plain": [
       "InvestorsName\n",
       "indian angel network    34\n",
       "rajan anandan           23\n",
       "anupam mittal           16\n",
       "letsventure             16\n",
       "kunal shah              14\n",
       "Name: StartupName, dtype: int64"
      ]
     },
     "execution_count": 24,
     "metadata": {},
     "output_type": "execute_result"
    }
   ],
   "source": [
    "startup_data = pd.read_csv(\"startup_funding.csv\")\n",
    "\n",
    "# Step 1: Normalize important startup names\n",
    "startup_data['StartupName'] = startup_data['StartupName'].replace(\n",
    "    {'Olacabs': 'Ola', 'Ola Cabs': 'Ola', 'Flipkart.com': 'Flipkart',\n",
    "     'Oyo Rooms': 'Oyo', 'OyoRooms': 'Oyo', 'OYO Rooms': 'Oyo',\n",
    "     'Paytm Marketplace': 'Paytm'})\n",
    "\n",
    "# Step 2: Filter the dataset for 'Seed Funding' and 'Crowd Funding'\n",
    "early_stage_data = startup_data[\n",
    "    (startup_data['InvestmentType'] == 'Seed Funding') |\n",
    "    (startup_data['InvestmentType'] == 'Crowd Funding')\n",
    "]\n",
    "\n",
    "# Create a DataFrame with unique pairs of investors and startups under the filtered conditions\n",
    "early_stage_pairs = early_stage_data[['InvestorsName', 'StartupName']].drop_duplicates()\n",
    "\n",
    "# Splitting investors where multiple investors are listed in a single cell and expand them into separate rows\n",
    "early_stage_pairs['InvestorsName'] = early_stage_pairs['InvestorsName'].str.split(',')\n",
    "expanded_early_stage_investors = early_stage_pairs.explode('InvestorsName')\n",
    "\n",
    "# Cleaning individual investor names\n",
    "expanded_early_stage_investors['InvestorsName'] = expanded_early_stage_investors['InvestorsName'].str.strip().str.lower()\n",
    "\n",
    "# Filter out blank or invalid investor names\n",
    "expanded_early_stage_investors = expanded_early_stage_investors[expanded_early_stage_investors['InvestorsName'] != '']\n",
    "\n",
    "# Counting unique startups per investor in early-stage investments\n",
    "unique_early_stage_counts = expanded_early_stage_investors.groupby('InvestorsName')['StartupName'].nunique()\n",
    "specific_investor_counts = unique_early_stage_counts.drop(['undisclosed investors', 'undisclosed investor'])\n",
    "\n",
    "# Recalculate the top 5 named investors for early-stage investments\n",
    "top_5_specific_early_stage_investors = specific_investor_counts.sort_values(ascending=False).head(5)\n",
    "top_5_specific_early_stage_investors\n"
   ]
  },
  {
   "cell_type": "markdown",
   "id": "b9f3cc48-22b4-44c5-9850-007e163e4338",
   "metadata": {},
   "source": [
    "The refined analysis aimed to identify top investors specializing in early-stage investments, specifically through \"Seed Funding\" and \"Crowd Funding\". To achieve this, the dataset was first normalized for key startup names like Ola, Flipkart, Oyo, and Paytm to address inconsistencies. The analysis then focused on filtering investments by the desired types. Entries for each investment were cleaned and deduplicated to ensure that only unique investor-startup pairings were considered, crucial for identifying true investment breadth. Investors labeled as \"undisclosed\" were excluded to focus on identifiable, actionable data. The resulting top list provides a clearer picture of active investors in early-stage sectors, offering valuable targets for fundraising efforts, particularly for startups in their nascent phases seeking specific types of investment support."
   ]
  },
  {
   "cell_type": "markdown",
   "id": "2e5bbb19-cd26-4e41-a1bd-7b623a8db1a4",
   "metadata": {},
   "source": [
    "### Due to your immense help, your friend startup successfully got seed funding and it is on the operational mode. Now your friend wants to expand his startup and he is looking for new investors for his startup, Now you again come as a saviour to help your friend and want to create a list of probable new new investors. Before moving forward you remember your investor friend advice that finding the investors by analysing the investment type. Since your friend startup is not in early phase it is in growth stage so the best-suited investment type is Private Equity. Find the top 5 investors who have invested in a different number of startups and their investment type is Private Equity, Correct spelling of investment types are - \"Private Equity\", \"Seed Funding\", \"Debt Funding\", and \"Crowd Funding\". Keep an eye for any spelling mistake. You can find this by printing unique values from this column. There are many errors in startup names. Ignore correcting all, just handle the important ones - Ola, Flipkart, Oyo and Paytm."
   ]
  },
  {
   "cell_type": "code",
   "execution_count": 25,
   "id": "3225eb35-aa9f-43aa-bc31-61329dab4d14",
   "metadata": {},
   "outputs": [
    {
     "data": {
      "text/plain": [
       "InvestorsName\n",
       "sequoia capital    46\n",
       "accel partners     43\n",
       "kalaari capital    35\n",
       "saif partners      26\n",
       "blume ventures     26\n",
       "Name: StartupName, dtype: int64"
      ]
     },
     "execution_count": 25,
     "metadata": {},
     "output_type": "execute_result"
    }
   ],
   "source": [
    "startup_data = pd.read_csv(\"startup_funding.csv\")\n",
    "\n",
    "# Step 1: Normalize important startup names\n",
    "startup_data['StartupName'] = startup_data['StartupName'].replace(\n",
    "    {'Olacabs': 'Ola', 'Ola Cabs': 'Ola', 'Flipkart.com': 'Flipkart',\n",
    "     'Oyo Rooms': 'Oyo', 'OyoRooms': 'Oyo', 'OYO Rooms': 'Oyo',\n",
    "     'Paytm Marketplace': 'Paytm'})\n",
    "\n",
    "# Step 2: Filter the dataset for 'Private Equity'\n",
    "private_equity_data = startup_data[startup_data['InvestmentType'] == 'Private Equity']\n",
    "\n",
    "# Create a DataFrame with unique pairs of investors and startups under the filtered conditions\n",
    "private_equity_pairs = private_equity_data[['InvestorsName', 'StartupName']].drop_duplicates()\n",
    "\n",
    "# Splitting investors where multiple investors are listed in a single cell and expand them into separate rows\n",
    "private_equity_pairs['InvestorsName'] = private_equity_pairs['InvestorsName'].str.split(',')\n",
    "expanded_private_equity_investors = private_equity_pairs.explode('InvestorsName')\n",
    "\n",
    "# Cleaning individual investor names\n",
    "expanded_private_equity_investors['InvestorsName'] = expanded_private_equity_investors['InvestorsName'].str.strip().str.lower()\n",
    "\n",
    "# Filter out blank or invalid investor names\n",
    "expanded_private_equity_investors = expanded_private_equity_investors[expanded_private_equity_investors['InvestorsName'] != '']\n",
    "\n",
    "# Counting unique startups per investor in Private Equity investments\n",
    "unique_private_equity_counts = expanded_private_equity_investors.groupby('InvestorsName')['StartupName'].nunique()\n",
    "\n",
    "# Get top 5 investors by the number of unique startups invested in, under 'Private Equity'\n",
    "top_5_private_equity_investors = unique_private_equity_counts.sort_values(ascending=False).head(5)\n",
    "top_5_private_equity_investors\n"
   ]
  },
  {
   "cell_type": "markdown",
   "id": "a72f17ba-eaf2-48ba-b0c5-9e3f0a19984a",
   "metadata": {},
   "source": [
    "The above code provided strategically targets identifying the top investors in \"Private Equity\". Initially, it processes the dataset by normalizing names of major startups like Ola, Flipkart, Oyo, and Paytm to correct inconsistencies and ensure uniformity in data analysis. The next step filters investments specifically marked as \"Private Equity,\" which is most suitable for startups moving beyond the early stages. To account for the granularity of investments, the code separates individual investors listed together for each startup, allowing for precise tracking of each investor's unique contributions. This is followed by cleaning up investor names and removing any blanks or non-specific entries. The analysis culminates in counting the number of unique startups each investor has funded, highlighting the top five based on their breadth of investment. This approach pinpoints investors with a broad and diverse investment portfolio, providing a valuable list of potential partners for expanding enterprises."
   ]
  },
  {
   "cell_type": "code",
   "execution_count": null,
   "id": "d12abd80-179f-4b44-8ec9-2c9ff249e530",
   "metadata": {},
   "outputs": [],
   "source": []
  }
 ],
 "metadata": {
  "kernelspec": {
   "display_name": "Python 3 (ipykernel)",
   "language": "python",
   "name": "python3"
  },
  "language_info": {
   "codemirror_mode": {
    "name": "ipython",
    "version": 3
   },
   "file_extension": ".py",
   "mimetype": "text/x-python",
   "name": "python",
   "nbconvert_exporter": "python",
   "pygments_lexer": "ipython3",
   "version": "3.11.5"
  }
 },
 "nbformat": 4,
 "nbformat_minor": 5
}
